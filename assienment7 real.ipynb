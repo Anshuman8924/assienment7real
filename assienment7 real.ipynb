{
 "cells": [
  {
   "cell_type": "code",
   "execution_count": null,
   "id": "83bd72fa-6498-4e18-b991-5845395b55f4",
   "metadata": {},
   "outputs": [],
   "source": [
    "#Q1. Create a function which will take a list as an argument and return the product of all the numbers\n",
    "#after creating a flat list.\n",
    "#Use the below-given list as an argument for your function.\n",
    "#list1 = [1,2,3,4, [44,55,66, True], False, (34,56,78,89,34), {1,2,3,3,2,1}, {1:34, \"key2\": [55, 67, 78, 89], 4: (45,\n",
    "# 22, 61, 34)}, [56, 'data science'], 'Machine Learning']\n",
    "#Note: you must extract numeric keys and values of the dictionary also."
   ]
  },
  {
   "cell_type": "code",
   "execution_count": 5,
   "id": "968cbf48-5356-4f5f-ab80-f68e428d6bc0",
   "metadata": {},
   "outputs": [
    {
     "name": "stdout",
     "output_type": "stream",
     "text": [
      "(121609171734914278789230624768000, [1, 2, 3, 4, 44, 55, 66, True, False, 34, 56, 78, 89, 34, 1, 2, 3, 1, 'key2', 4, 55, 67, 78, 89, 45, 22, 61, 34, 56, 'data science', 'Machine Learning'])"
     ]
    }
   ],
   "source": [
    "def product_flat_list(list1):\n",
    "    flatlist=[]\n",
    "    \n",
    "    for item in list1:\n",
    "        if type(item)==list:\n",
    "            flatlist.extend(item)\n",
    "        elif type(item) == dict:\n",
    "             flatlist.extend(item.keys())\n",
    "             for i in item.values():\n",
    "                    if type(i) == list or type(i) == tuple or type(i) == set :\n",
    "                    \n",
    "                        flatlist.extend(i)\n",
    "                    else:\n",
    "                        pass\n",
    "        elif type(item)==set:\n",
    "            flatlist.extend(item)\n",
    "        elif type(item)==tuple:\n",
    "            flatlist.extend(item)    \n",
    "        else:\n",
    "            flatlist.append(item)\n",
    "        product=1\n",
    "        for y in flatlist:\n",
    "            if type(y)==int or type(y)== float:\n",
    "                 product*=y\n",
    "            \n",
    "    return product , flatlist\n",
    "list1 = [ 1,2,3,4, [44,55,66, True], False, (34,56,78,89,34), {1,2,3,3,2,1},\n",
    "         {1:34, \"key2\": [55, 67, 78, 89], 4: (45,22, 61, 34)}, [56, 'data science'],\n",
    "         'Machine Learning' ]\n",
    "print(product_flat_list(list1) , end='')"
   ]
  },
  {
   "cell_type": "code",
   "execution_count": null,
   "id": "4024f294-4889-4309-a350-b2c160a6aea8",
   "metadata": {},
   "outputs": [],
   "source": [
    "#Q2. Write a python program for encrypting a message sent to you by your friend. The logic of encryption\n",
    "#should be such that, for a the output should be z. For b, the output should be y. For c, the output should\n",
    "#be x respectively. Also, the whitespace should be replaced with a dollar sign. Keep the punctuation\n",
    "#marks unchanged.\n",
    "\n",
    "\n",
    "#Input Sentence: I want to become a Data Scientist.\n",
    "\n",
    "#Encrypt the above input sentence using the program you just created.\n",
    "\n",
    "#Note: Convert the given input sentence into lowercase before encrypting. The final output should be\n",
    "#lowercase."
   ]
  },
  {
   "cell_type": "code",
   "execution_count": 10,
   "id": "c1427cfd-88a5-4f26-9741-fe2c56a2a154",
   "metadata": {},
   "outputs": [
    {
     "name": "stdin",
     "output_type": "stream",
     "text": [
      "enter your string I want to become Data scientist\n"
     ]
    },
    {
     "name": "stdout",
     "output_type": "stream",
     "text": [
      "i$wznt$to$yexome$dztz$sxientist\n"
     ]
    }
   ],
   "source": [
    "encript=input('enter your string')\n",
    "dicti={'a':'z',' ':'$','b':'y','c':'x'}\n",
    "num=encript.lower()\n",
    "for i in dicti:\n",
    "    num=num.replace(i,dicti[i])\n",
    "print(f\"{num}\")    "
   ]
  }
 ],
 "metadata": {
  "kernelspec": {
   "display_name": "Python 3 (ipykernel)",
   "language": "python",
   "name": "python3"
  },
  "language_info": {
   "codemirror_mode": {
    "name": "ipython",
    "version": 3
   },
   "file_extension": ".py",
   "mimetype": "text/x-python",
   "name": "python",
   "nbconvert_exporter": "python",
   "pygments_lexer": "ipython3",
   "version": "3.10.8"
  }
 },
 "nbformat": 4,
 "nbformat_minor": 5
}
